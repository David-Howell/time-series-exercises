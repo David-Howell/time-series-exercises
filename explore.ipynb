{
 "cells": [
  {
   "cell_type": "markdown",
   "id": "ad890db6-c9ab-4eb7-a1c6-615f5ca400f2",
   "metadata": {},
   "source": [
    "# Exercise\n",
    "Do your work for this exercise in a notebook named `explore`. Use the techniques in the lesson to explore the `store item demand` dataset and the `opsd` dataset.\n",
    "\n",
    "For the store item demand data, you will need to choose a method of aggregating such that each observation is a unique date. For both datasets you should choose a method of splitting your data and only explore the training split.\n",
    "\n",
    "> 1. \"random noise\" is a slightly innacurate way to describe this component. Technically this component is the residual, or the error in our prediction. Similar to when we are examining linear regression models, any pattern observed in the residuals of our model tell us that the model failed to capture that pattern. ↩"
   ]
  },
  {
   "cell_type": "markdown",
   "id": "43b5bbf9-22d8-40d5-86fc-ad4f69bb3dce",
   "metadata": {},
   "source": [
    "## Imports"
   ]
  },
  {
   "cell_type": "code",
   "execution_count": 1,
   "id": "0ae591a8-05a7-4250-98bd-e9c373d4d320",
   "metadata": {},
   "outputs": [],
   "source": [
    "import pandas as pd\n",
    "import numpy as np\n",
    "import matplotlib.pyplot as plt\n",
    "import seaborn as sns\n",
    "import plotly.express as px\n",
    "# from acquire import all_sales, open_power_systems_data as opsd\n",
    "from prepare import prepare_opsd, prepare_sales\n",
    "from wrangle import summarize\n"
   ]
  },
  {
   "cell_type": "code",
   "execution_count": 4,
   "id": "dad02a1b-a3ef-4b35-be09-f060eeaddd47",
   "metadata": {},
   "outputs": [],
   "source": [
    "import statsmodels.api as sm\n",
    "\n",
    "# plotting defaults\n",
    "plt.rc('figure', figsize=(11, 5))\n",
    "plt.style.use('seaborn-whitegrid')\n",
    "plt.rc('font', size=16)\n"
   ]
  },
  {
   "cell_type": "code",
   "execution_count": 36,
   "id": "d0bce272-abef-4940-9f67-19baed52d972",
   "metadata": {},
   "outputs": [],
   "source": [
    "from datetime import datetime"
   ]
  },
  {
   "cell_type": "code",
   "execution_count": 9,
   "id": "e57f66fd-4a02-4ec3-8558-612457942f8e",
   "metadata": {},
   "outputs": [],
   "source": [
    "df = prepare_sales()"
   ]
  },
  {
   "cell_type": "code",
   "execution_count": 10,
   "id": "e5952ae7-9ff2-43a8-8bb3-5cd7062b4575",
   "metadata": {},
   "outputs": [
    {
     "data": {
      "text/html": [
       "<div>\n",
       "<style scoped>\n",
       "    .dataframe tbody tr th:only-of-type {\n",
       "        vertical-align: middle;\n",
       "    }\n",
       "\n",
       "    .dataframe tbody tr th {\n",
       "        vertical-align: top;\n",
       "    }\n",
       "\n",
       "    .dataframe thead th {\n",
       "        text-align: right;\n",
       "    }\n",
       "</style>\n",
       "<table border=\"1\" class=\"dataframe\">\n",
       "  <thead>\n",
       "    <tr style=\"text-align: right;\">\n",
       "      <th></th>\n",
       "      <th>item</th>\n",
       "      <th>sale_amount</th>\n",
       "      <th>sale_date</th>\n",
       "      <th>sale_id</th>\n",
       "      <th>store</th>\n",
       "      <th>store_address</th>\n",
       "      <th>store_city</th>\n",
       "      <th>store_state</th>\n",
       "      <th>store_zipcode</th>\n",
       "      <th>item_brand</th>\n",
       "      <th>item_name</th>\n",
       "      <th>item_price</th>\n",
       "      <th>item_upc12</th>\n",
       "      <th>item_upc14</th>\n",
       "      <th>weekday</th>\n",
       "      <th>month</th>\n",
       "      <th>sales_total</th>\n",
       "    </tr>\n",
       "    <tr>\n",
       "      <th>sale_date</th>\n",
       "      <th></th>\n",
       "      <th></th>\n",
       "      <th></th>\n",
       "      <th></th>\n",
       "      <th></th>\n",
       "      <th></th>\n",
       "      <th></th>\n",
       "      <th></th>\n",
       "      <th></th>\n",
       "      <th></th>\n",
       "      <th></th>\n",
       "      <th></th>\n",
       "      <th></th>\n",
       "      <th></th>\n",
       "      <th></th>\n",
       "      <th></th>\n",
       "      <th></th>\n",
       "    </tr>\n",
       "  </thead>\n",
       "  <tbody>\n",
       "    <tr>\n",
       "      <th>2013-01-01</th>\n",
       "      <td>1</td>\n",
       "      <td>13.0</td>\n",
       "      <td>2013-01-01</td>\n",
       "      <td>1</td>\n",
       "      <td>1</td>\n",
       "      <td>12125 Alamo Ranch Pkwy</td>\n",
       "      <td>San Antonio</td>\n",
       "      <td>TX</td>\n",
       "      <td>78253</td>\n",
       "      <td>Riceland</td>\n",
       "      <td>Riceland American Jazmine Rice</td>\n",
       "      <td>0.84</td>\n",
       "      <td>35200264013</td>\n",
       "      <td>35200264013</td>\n",
       "      <td>Tue</td>\n",
       "      <td>1</td>\n",
       "      <td>10.92</td>\n",
       "    </tr>\n",
       "    <tr>\n",
       "      <th>2013-01-02</th>\n",
       "      <td>1</td>\n",
       "      <td>11.0</td>\n",
       "      <td>2013-01-02</td>\n",
       "      <td>2</td>\n",
       "      <td>1</td>\n",
       "      <td>12125 Alamo Ranch Pkwy</td>\n",
       "      <td>San Antonio</td>\n",
       "      <td>TX</td>\n",
       "      <td>78253</td>\n",
       "      <td>Riceland</td>\n",
       "      <td>Riceland American Jazmine Rice</td>\n",
       "      <td>0.84</td>\n",
       "      <td>35200264013</td>\n",
       "      <td>35200264013</td>\n",
       "      <td>Wed</td>\n",
       "      <td>1</td>\n",
       "      <td>9.24</td>\n",
       "    </tr>\n",
       "    <tr>\n",
       "      <th>2013-01-03</th>\n",
       "      <td>1</td>\n",
       "      <td>14.0</td>\n",
       "      <td>2013-01-03</td>\n",
       "      <td>3</td>\n",
       "      <td>1</td>\n",
       "      <td>12125 Alamo Ranch Pkwy</td>\n",
       "      <td>San Antonio</td>\n",
       "      <td>TX</td>\n",
       "      <td>78253</td>\n",
       "      <td>Riceland</td>\n",
       "      <td>Riceland American Jazmine Rice</td>\n",
       "      <td>0.84</td>\n",
       "      <td>35200264013</td>\n",
       "      <td>35200264013</td>\n",
       "      <td>Thu</td>\n",
       "      <td>1</td>\n",
       "      <td>11.76</td>\n",
       "    </tr>\n",
       "    <tr>\n",
       "      <th>2013-01-04</th>\n",
       "      <td>1</td>\n",
       "      <td>13.0</td>\n",
       "      <td>2013-01-04</td>\n",
       "      <td>4</td>\n",
       "      <td>1</td>\n",
       "      <td>12125 Alamo Ranch Pkwy</td>\n",
       "      <td>San Antonio</td>\n",
       "      <td>TX</td>\n",
       "      <td>78253</td>\n",
       "      <td>Riceland</td>\n",
       "      <td>Riceland American Jazmine Rice</td>\n",
       "      <td>0.84</td>\n",
       "      <td>35200264013</td>\n",
       "      <td>35200264013</td>\n",
       "      <td>Fri</td>\n",
       "      <td>1</td>\n",
       "      <td>10.92</td>\n",
       "    </tr>\n",
       "    <tr>\n",
       "      <th>2013-01-05</th>\n",
       "      <td>1</td>\n",
       "      <td>10.0</td>\n",
       "      <td>2013-01-05</td>\n",
       "      <td>5</td>\n",
       "      <td>1</td>\n",
       "      <td>12125 Alamo Ranch Pkwy</td>\n",
       "      <td>San Antonio</td>\n",
       "      <td>TX</td>\n",
       "      <td>78253</td>\n",
       "      <td>Riceland</td>\n",
       "      <td>Riceland American Jazmine Rice</td>\n",
       "      <td>0.84</td>\n",
       "      <td>35200264013</td>\n",
       "      <td>35200264013</td>\n",
       "      <td>Sat</td>\n",
       "      <td>1</td>\n",
       "      <td>8.40</td>\n",
       "    </tr>\n",
       "    <tr>\n",
       "      <th>...</th>\n",
       "      <td>...</td>\n",
       "      <td>...</td>\n",
       "      <td>...</td>\n",
       "      <td>...</td>\n",
       "      <td>...</td>\n",
       "      <td>...</td>\n",
       "      <td>...</td>\n",
       "      <td>...</td>\n",
       "      <td>...</td>\n",
       "      <td>...</td>\n",
       "      <td>...</td>\n",
       "      <td>...</td>\n",
       "      <td>...</td>\n",
       "      <td>...</td>\n",
       "      <td>...</td>\n",
       "      <td>...</td>\n",
       "      <td>...</td>\n",
       "    </tr>\n",
       "    <tr>\n",
       "      <th>2017-12-27</th>\n",
       "      <td>50</td>\n",
       "      <td>63.0</td>\n",
       "      <td>2017-12-27</td>\n",
       "      <td>912996</td>\n",
       "      <td>10</td>\n",
       "      <td>8503 NW Military Hwy</td>\n",
       "      <td>San Antonio</td>\n",
       "      <td>TX</td>\n",
       "      <td>78231</td>\n",
       "      <td>Choice</td>\n",
       "      <td>Choice Organic Teas Black Tea Classic Black - ...</td>\n",
       "      <td>5.20</td>\n",
       "      <td>47445919221</td>\n",
       "      <td>47445919221</td>\n",
       "      <td>Wed</td>\n",
       "      <td>12</td>\n",
       "      <td>327.60</td>\n",
       "    </tr>\n",
       "    <tr>\n",
       "      <th>2017-12-28</th>\n",
       "      <td>50</td>\n",
       "      <td>59.0</td>\n",
       "      <td>2017-12-28</td>\n",
       "      <td>912997</td>\n",
       "      <td>10</td>\n",
       "      <td>8503 NW Military Hwy</td>\n",
       "      <td>San Antonio</td>\n",
       "      <td>TX</td>\n",
       "      <td>78231</td>\n",
       "      <td>Choice</td>\n",
       "      <td>Choice Organic Teas Black Tea Classic Black - ...</td>\n",
       "      <td>5.20</td>\n",
       "      <td>47445919221</td>\n",
       "      <td>47445919221</td>\n",
       "      <td>Thu</td>\n",
       "      <td>12</td>\n",
       "      <td>306.80</td>\n",
       "    </tr>\n",
       "    <tr>\n",
       "      <th>2017-12-29</th>\n",
       "      <td>50</td>\n",
       "      <td>74.0</td>\n",
       "      <td>2017-12-29</td>\n",
       "      <td>912998</td>\n",
       "      <td>10</td>\n",
       "      <td>8503 NW Military Hwy</td>\n",
       "      <td>San Antonio</td>\n",
       "      <td>TX</td>\n",
       "      <td>78231</td>\n",
       "      <td>Choice</td>\n",
       "      <td>Choice Organic Teas Black Tea Classic Black - ...</td>\n",
       "      <td>5.20</td>\n",
       "      <td>47445919221</td>\n",
       "      <td>47445919221</td>\n",
       "      <td>Fri</td>\n",
       "      <td>12</td>\n",
       "      <td>384.80</td>\n",
       "    </tr>\n",
       "    <tr>\n",
       "      <th>2017-12-30</th>\n",
       "      <td>50</td>\n",
       "      <td>62.0</td>\n",
       "      <td>2017-12-30</td>\n",
       "      <td>912999</td>\n",
       "      <td>10</td>\n",
       "      <td>8503 NW Military Hwy</td>\n",
       "      <td>San Antonio</td>\n",
       "      <td>TX</td>\n",
       "      <td>78231</td>\n",
       "      <td>Choice</td>\n",
       "      <td>Choice Organic Teas Black Tea Classic Black - ...</td>\n",
       "      <td>5.20</td>\n",
       "      <td>47445919221</td>\n",
       "      <td>47445919221</td>\n",
       "      <td>Sat</td>\n",
       "      <td>12</td>\n",
       "      <td>322.40</td>\n",
       "    </tr>\n",
       "    <tr>\n",
       "      <th>2017-12-31</th>\n",
       "      <td>50</td>\n",
       "      <td>82.0</td>\n",
       "      <td>2017-12-31</td>\n",
       "      <td>913000</td>\n",
       "      <td>10</td>\n",
       "      <td>8503 NW Military Hwy</td>\n",
       "      <td>San Antonio</td>\n",
       "      <td>TX</td>\n",
       "      <td>78231</td>\n",
       "      <td>Choice</td>\n",
       "      <td>Choice Organic Teas Black Tea Classic Black - ...</td>\n",
       "      <td>5.20</td>\n",
       "      <td>47445919221</td>\n",
       "      <td>47445919221</td>\n",
       "      <td>Sun</td>\n",
       "      <td>12</td>\n",
       "      <td>426.40</td>\n",
       "    </tr>\n",
       "  </tbody>\n",
       "</table>\n",
       "<p>913000 rows × 17 columns</p>\n",
       "</div>"
      ],
      "text/plain": [
       "            item  sale_amount  sale_date  ...  weekday  month sales_total\n",
       "sale_date                                 ...                            \n",
       "2013-01-01     1         13.0 2013-01-01  ...      Tue      1       10.92\n",
       "2013-01-02     1         11.0 2013-01-02  ...      Wed      1        9.24\n",
       "2013-01-03     1         14.0 2013-01-03  ...      Thu      1       11.76\n",
       "2013-01-04     1         13.0 2013-01-04  ...      Fri      1       10.92\n",
       "2013-01-05     1         10.0 2013-01-05  ...      Sat      1        8.40\n",
       "...          ...          ...        ...  ...      ...    ...         ...\n",
       "2017-12-27    50         63.0 2017-12-27  ...      Wed     12      327.60\n",
       "2017-12-28    50         59.0 2017-12-28  ...      Thu     12      306.80\n",
       "2017-12-29    50         74.0 2017-12-29  ...      Fri     12      384.80\n",
       "2017-12-30    50         62.0 2017-12-30  ...      Sat     12      322.40\n",
       "2017-12-31    50         82.0 2017-12-31  ...      Sun     12      426.40\n",
       "\n",
       "[913000 rows x 17 columns]"
      ]
     },
     "execution_count": 10,
     "metadata": {},
     "output_type": "execute_result"
    }
   ],
   "source": [
    "df"
   ]
  },
  {
   "cell_type": "code",
   "execution_count": 11,
   "id": "c3dcbf48-b81a-43ed-a68d-b7d1f45d3010",
   "metadata": {},
   "outputs": [
    {
     "data": {
      "text/plain": [
       "(913000, 17)"
      ]
     },
     "execution_count": 11,
     "metadata": {},
     "output_type": "execute_result"
    }
   ],
   "source": [
    "df.shape"
   ]
  },
  {
   "cell_type": "code",
   "execution_count": 12,
   "id": "6f34990b-bd00-4a49-b8e5-03dcc6dacbcf",
   "metadata": {},
   "outputs": [
    {
     "data": {
      "image/png": "[encoded data removed]",
      "text/plain": [
       "<Figure size 792x360 with 9 Axes>"
      ]
     },
     "metadata": {},
     "output_type": "display_data"
    }
   ],
   "source": [
    "\n",
    "df.hist()\n",
    "\n",
    "plt.show()"
   ]
  },
  {
   "cell_type": "code",
   "execution_count": 13,
   "id": "0f18215d-c866-49ea-b9cc-46dc59a57a7b",
   "metadata": {},
   "outputs": [],
   "source": [
    "# Percentage-Based\n",
    "# establish that I want about 70% of my data here:\n",
    "train_size = 0.70\n",
    "# get that in row numbers:\n",
    "n = df.shape[0]\n",
    "test_start_index = round(train_size*n)"
   ]
  },
  {
   "cell_type": "code",
   "execution_count": 16,
   "id": "81d71bfd-a79e-4e22-8370-3399cfedf84d",
   "metadata": {},
   "outputs": [
    {
     "data": {
      "text/plain": [
       "639100"
      ]
     },
     "execution_count": 16,
     "metadata": {},
     "output_type": "execute_result"
    }
   ],
   "source": [
    "test_start_index"
   ]
  },
  {
   "cell_type": "markdown",
   "id": "c2fa3c88-e883-4b51-a58b-3dc73198f65a",
   "metadata": {},
   "source": [
    "### Prepare df"
   ]
  },
  {
   "cell_type": "markdown",
   "id": "1539e2ee-0cab-4c78-a05b-4ce0625e75af",
   "metadata": {},
   "source": [
    "#### df.sort_index()"
   ]
  },
  {
   "cell_type": "code",
   "execution_count": 23,
   "id": "e2318c29-52c6-4113-9fdd-f49e676cb469",
   "metadata": {},
   "outputs": [],
   "source": [
    "df = df.sort_index()"
   ]
  },
  {
   "cell_type": "code",
   "execution_count": 28,
   "id": "3b8f1463-1f7f-45f3-9f38-df734d38457e",
   "metadata": {},
   "outputs": [
    {
     "data": {
      "text/html": [
       "<div>\n",
       "<style scoped>\n",
       "    .dataframe tbody tr th:only-of-type {\n",
       "        vertical-align: middle;\n",
       "    }\n",
       "\n",
       "    .dataframe tbody tr th {\n",
       "        vertical-align: top;\n",
       "    }\n",
       "\n",
       "    .dataframe thead th {\n",
       "        text-align: right;\n",
       "    }\n",
       "</style>\n",
       "<table border=\"1\" class=\"dataframe\">\n",
       "  <thead>\n",
       "    <tr style=\"text-align: right;\">\n",
       "      <th></th>\n",
       "      <th>max</th>\n",
       "      <th>mean</th>\n",
       "      <th>min</th>\n",
       "    </tr>\n",
       "    <tr>\n",
       "      <th>sale_date</th>\n",
       "      <th></th>\n",
       "      <th></th>\n",
       "      <th></th>\n",
       "    </tr>\n",
       "  </thead>\n",
       "  <tbody>\n",
       "    <tr>\n",
       "      <th>2013-01-01</th>\n",
       "      <td>592.15</td>\n",
       "      <td>147.68802</td>\n",
       "      <td>4.44</td>\n",
       "    </tr>\n",
       "    <tr>\n",
       "      <th>2013-01-02</th>\n",
       "      <td>646.81</td>\n",
       "      <td>147.14116</td>\n",
       "      <td>3.36</td>\n",
       "    </tr>\n",
       "    <tr>\n",
       "      <th>2013-01-03</th>\n",
       "      <td>610.37</td>\n",
       "      <td>156.33896</td>\n",
       "      <td>6.72</td>\n",
       "    </tr>\n",
       "    <tr>\n",
       "      <th>2013-01-04</th>\n",
       "      <td>619.48</td>\n",
       "      <td>168.93546</td>\n",
       "      <td>4.20</td>\n",
       "    </tr>\n",
       "    <tr>\n",
       "      <th>2013-01-05</th>\n",
       "      <td>756.13</td>\n",
       "      <td>175.24370</td>\n",
       "      <td>5.40</td>\n",
       "    </tr>\n",
       "    <tr>\n",
       "      <th>...</th>\n",
       "      <td>...</td>\n",
       "      <td>...</td>\n",
       "      <td>...</td>\n",
       "    </tr>\n",
       "    <tr>\n",
       "      <th>2017-12-27</th>\n",
       "      <td>956.55</td>\n",
       "      <td>218.30230</td>\n",
       "      <td>7.20</td>\n",
       "    </tr>\n",
       "    <tr>\n",
       "      <th>2017-12-28</th>\n",
       "      <td>857.28</td>\n",
       "      <td>234.75498</td>\n",
       "      <td>6.72</td>\n",
       "    </tr>\n",
       "    <tr>\n",
       "      <th>2017-12-29</th>\n",
       "      <td>920.11</td>\n",
       "      <td>253.08368</td>\n",
       "      <td>10.44</td>\n",
       "    </tr>\n",
       "    <tr>\n",
       "      <th>2017-12-30</th>\n",
       "      <td>1084.09</td>\n",
       "      <td>269.80614</td>\n",
       "      <td>7.80</td>\n",
       "    </tr>\n",
       "    <tr>\n",
       "      <th>2017-12-31</th>\n",
       "      <td>965.66</td>\n",
       "      <td>281.81148</td>\n",
       "      <td>12.00</td>\n",
       "    </tr>\n",
       "  </tbody>\n",
       "</table>\n",
       "<p>1826 rows × 3 columns</p>\n",
       "</div>"
      ],
      "text/plain": [
       "                max       mean    min\n",
       "sale_date                            \n",
       "2013-01-01   592.15  147.68802   4.44\n",
       "2013-01-02   646.81  147.14116   3.36\n",
       "2013-01-03   610.37  156.33896   6.72\n",
       "2013-01-04   619.48  168.93546   4.20\n",
       "2013-01-05   756.13  175.24370   5.40\n",
       "...             ...        ...    ...\n",
       "2017-12-27   956.55  218.30230   7.20\n",
       "2017-12-28   857.28  234.75498   6.72\n",
       "2017-12-29   920.11  253.08368  10.44\n",
       "2017-12-30  1084.09  269.80614   7.80\n",
       "2017-12-31   965.66  281.81148  12.00\n",
       "\n",
       "[1826 rows x 3 columns]"
      ]
     },
     "execution_count": 28,
     "metadata": {},
     "output_type": "execute_result"
    }
   ],
   "source": [
    "df.groupby(df.index).sales_total.agg(['max', 'mean', 'min'])"
   ]
  },
  {
   "cell_type": "code",
   "execution_count": 32,
   "id": "523aefe9-7e76-4a0b-82a3-cf374ca60bb5",
   "metadata": {},
   "outputs": [],
   "source": [
    "sales_by_day = df.groupby(df.index).sales_total.agg(['max', 'mean', 'min'])"
   ]
  },
  {
   "cell_type": "code",
   "execution_count": 34,
   "id": "03121090-0c80-45ed-8b8a-1acd32f64f4d",
   "metadata": {},
   "outputs": [
    {
     "data": {
      "image/png": "[encoded data removed]",
      "text/plain": [
       "<Figure size 792x360 with 1 Axes>"
      ]
     },
     "metadata": {},
     "output_type": "display_data"
    }
   ],
   "source": [
    "sns.barplot(data= sales_by_day,\n",
    "            x=sales_by_day.index,\n",
    "            y='max')\n",
    "\n",
    "plt.show()"
   ]
  },
  {
   "cell_type": "code",
   "execution_count": 35,
   "id": "c2e895cf-e039-49df-b08d-cab39cca61ca",
   "metadata": {},
   "outputs": [
    {
     "data": {
      "text/plain": [
       "DatetimeIndex(['2013-01-01', '2013-01-02', '2013-01-03', '2013-01-04',\n",
       "               '2013-01-05', '2013-01-06', '2013-01-07', '2013-01-08',\n",
       "               '2013-01-09', '2013-01-10',\n",
       "               ...\n",
       "               '2017-12-22', '2017-12-23', '2017-12-24', '2017-12-25',\n",
       "               '2017-12-26', '2017-12-27', '2017-12-28', '2017-12-29',\n",
       "               '2017-12-30', '2017-12-31'],\n",
       "              dtype='datetime64[ns]', name='sale_date', length=1826, freq=None)"
      ]
     },
     "execution_count": 35,
     "metadata": {},
     "output_type": "execute_result"
    }
   ],
   "source": [
    "df.index.unique()"
   ]
  },
  {
   "cell_type": "markdown",
   "id": "a1c5dcaf-5bee-42c5-a0a8-9ea6293bf85a",
   "metadata": {},
   "source": [
    "#### df.drop(columns='sale_date')"
   ]
  },
  {
   "cell_type": "code",
   "execution_count": 79,
   "id": "444e1eb4-0405-4ab4-8a60-ef78bbc6581a",
   "metadata": {
    "tags": []
   },
   "outputs": [],
   "source": [
    "df = df.drop(columns='sale_date')"
   ]
  },
  {
   "cell_type": "markdown",
   "id": "ae5ae9f1-5dc2-4861-9fc2-dd964cbd6e48",
   "metadata": {},
   "source": [
    "#### set basics"
   ]
  },
  {
   "cell_type": "code",
   "execution_count": 90,
   "id": "fb97915c-6168-4b42-9398-4dd4cb555a67",
   "metadata": {},
   "outputs": [
    {
     "data": {
      "text/plain": [
       "Index(['item', 'sale_amount', 'sale_id', 'store', 'store_address',\n",
       "       'store_city', 'store_state', 'store_zipcode', 'item_brand', 'item_name',\n",
       "       'item_price', 'item_upc12', 'item_upc14', 'weekday', 'month',\n",
       "       'sales_total'],\n",
       "      dtype='object')"
      ]
     },
     "execution_count": 90,
     "metadata": {},
     "output_type": "execute_result"
    }
   ],
   "source": [
    "df.columns"
   ]
  },
  {
   "cell_type": "code",
   "execution_count": 95,
   "id": "a053147a-17e7-40f0-a0ba-ec403a592c5a",
   "metadata": {},
   "outputs": [
    {
     "data": {
      "text/html": [
       "<div>\n",
       "<style scoped>\n",
       "    .dataframe tbody tr th:only-of-type {\n",
       "        vertical-align: middle;\n",
       "    }\n",
       "\n",
       "    .dataframe tbody tr th {\n",
       "        vertical-align: top;\n",
       "    }\n",
       "\n",
       "    .dataframe thead th {\n",
       "        text-align: right;\n",
       "    }\n",
       "</style>\n",
       "<table border=\"1\" class=\"dataframe\">\n",
       "  <thead>\n",
       "    <tr style=\"text-align: right;\">\n",
       "      <th></th>\n",
       "      <th>item</th>\n",
       "      <th>store</th>\n",
       "      <th>store_zipcode</th>\n",
       "      <th>item_brand</th>\n",
       "      <th>item_name</th>\n",
       "      <th>item_price</th>\n",
       "      <th>weekday</th>\n",
       "      <th>month</th>\n",
       "      <th>sales_total</th>\n",
       "    </tr>\n",
       "    <tr>\n",
       "      <th>sale_date</th>\n",
       "      <th></th>\n",
       "      <th></th>\n",
       "      <th></th>\n",
       "      <th></th>\n",
       "      <th></th>\n",
       "      <th></th>\n",
       "      <th></th>\n",
       "      <th></th>\n",
       "      <th></th>\n",
       "    </tr>\n",
       "  </thead>\n",
       "  <tbody>\n",
       "    <tr>\n",
       "      <th>2013-01-01</th>\n",
       "      <td>1</td>\n",
       "      <td>1</td>\n",
       "      <td>78253</td>\n",
       "      <td>Riceland</td>\n",
       "      <td>Riceland American Jazmine Rice</td>\n",
       "      <td>0.84</td>\n",
       "      <td>Tue</td>\n",
       "      <td>1</td>\n",
       "      <td>10.92</td>\n",
       "    </tr>\n",
       "    <tr>\n",
       "      <th>2013-01-01</th>\n",
       "      <td>12</td>\n",
       "      <td>7</td>\n",
       "      <td>78217</td>\n",
       "      <td>Mueller</td>\n",
       "      <td>Mueller Sport Care Basic Support Level Medium ...</td>\n",
       "      <td>8.40</td>\n",
       "      <td>Tue</td>\n",
       "      <td>1</td>\n",
       "      <td>218.40</td>\n",
       "    </tr>\n",
       "    <tr>\n",
       "      <th>2013-01-01</th>\n",
       "      <td>46</td>\n",
       "      <td>7</td>\n",
       "      <td>78217</td>\n",
       "      <td>Mama Marys</td>\n",
       "      <td>Pizza Sauce</td>\n",
       "      <td>4.65</td>\n",
       "      <td>Tue</td>\n",
       "      <td>1</td>\n",
       "      <td>125.55</td>\n",
       "    </tr>\n",
       "    <tr>\n",
       "      <th>2013-01-01</th>\n",
       "      <td>12</td>\n",
       "      <td>8</td>\n",
       "      <td>78232</td>\n",
       "      <td>Mueller</td>\n",
       "      <td>Mueller Sport Care Basic Support Level Medium ...</td>\n",
       "      <td>8.40</td>\n",
       "      <td>Tue</td>\n",
       "      <td>1</td>\n",
       "      <td>453.60</td>\n",
       "    </tr>\n",
       "    <tr>\n",
       "      <th>2013-01-01</th>\n",
       "      <td>12</td>\n",
       "      <td>9</td>\n",
       "      <td>78221</td>\n",
       "      <td>Mueller</td>\n",
       "      <td>Mueller Sport Care Basic Support Level Medium ...</td>\n",
       "      <td>8.40</td>\n",
       "      <td>Tue</td>\n",
       "      <td>1</td>\n",
       "      <td>294.00</td>\n",
       "    </tr>\n",
       "    <tr>\n",
       "      <th>...</th>\n",
       "      <td>...</td>\n",
       "      <td>...</td>\n",
       "      <td>...</td>\n",
       "      <td>...</td>\n",
       "      <td>...</td>\n",
       "      <td>...</td>\n",
       "      <td>...</td>\n",
       "      <td>...</td>\n",
       "      <td>...</td>\n",
       "    </tr>\n",
       "    <tr>\n",
       "      <th>2016-12-31</th>\n",
       "      <td>18</td>\n",
       "      <td>6</td>\n",
       "      <td>78220</td>\n",
       "      <td>Scotch</td>\n",
       "      <td>Scotch Removable Clear Mounting Squares - 35 Ct</td>\n",
       "      <td>4.39</td>\n",
       "      <td>Sat</td>\n",
       "      <td>12</td>\n",
       "      <td>263.40</td>\n",
       "    </tr>\n",
       "    <tr>\n",
       "      <th>2016-12-31</th>\n",
       "      <td>42</td>\n",
       "      <td>1</td>\n",
       "      <td>78253</td>\n",
       "      <td>Moms Best Naturals</td>\n",
       "      <td>Moms Best Naturals Cereal Toasted Cinnamon Squ...</td>\n",
       "      <td>2.97</td>\n",
       "      <td>Sat</td>\n",
       "      <td>12</td>\n",
       "      <td>92.07</td>\n",
       "    </tr>\n",
       "    <tr>\n",
       "      <th>2016-12-31</th>\n",
       "      <td>6</td>\n",
       "      <td>4</td>\n",
       "      <td>78204</td>\n",
       "      <td>Sally Hansen</td>\n",
       "      <td>Sally Hansen Nail Color Magnetic 903 Silver El...</td>\n",
       "      <td>6.93</td>\n",
       "      <td>Sat</td>\n",
       "      <td>12</td>\n",
       "      <td>284.13</td>\n",
       "    </tr>\n",
       "    <tr>\n",
       "      <th>2016-12-31</th>\n",
       "      <td>4</td>\n",
       "      <td>9</td>\n",
       "      <td>78221</td>\n",
       "      <td>Boars Head</td>\n",
       "      <td>Boars Head Sliced White American Cheese - 120 Ct</td>\n",
       "      <td>3.14</td>\n",
       "      <td>Sat</td>\n",
       "      <td>12</td>\n",
       "      <td>53.38</td>\n",
       "    </tr>\n",
       "    <tr>\n",
       "      <th>2016-12-31</th>\n",
       "      <td>33</td>\n",
       "      <td>3</td>\n",
       "      <td>78201</td>\n",
       "      <td>The First Years</td>\n",
       "      <td>Tomy The First Years Gumdrop Orthodontic Pacif...</td>\n",
       "      <td>6.52</td>\n",
       "      <td>Sat</td>\n",
       "      <td>12</td>\n",
       "      <td>482.48</td>\n",
       "    </tr>\n",
       "  </tbody>\n",
       "</table>\n",
       "<p>730500 rows × 9 columns</p>\n",
       "</div>"
      ],
      "text/plain": [
       "            item  store store_zipcode  ... weekday month  sales_total\n",
       "sale_date                              ...                           \n",
       "2013-01-01     1      1         78253  ...     Tue     1        10.92\n",
       "2013-01-01    12      7         78217  ...     Tue     1       218.40\n",
       "2013-01-01    46      7         78217  ...     Tue     1       125.55\n",
       "2013-01-01    12      8         78232  ...     Tue     1       453.60\n",
       "2013-01-01    12      9         78221  ...     Tue     1       294.00\n",
       "...          ...    ...           ...  ...     ...   ...          ...\n",
       "2016-12-31    18      6         78220  ...     Sat    12       263.40\n",
       "2016-12-31    42      1         78253  ...     Sat    12        92.07\n",
       "2016-12-31     6      4         78204  ...     Sat    12       284.13\n",
       "2016-12-31     4      9         78221  ...     Sat    12        53.38\n",
       "2016-12-31    33      3         78201  ...     Sat    12       482.48\n",
       "\n",
       "[730500 rows x 9 columns]"
      ]
     },
     "execution_count": 95,
     "metadata": {},
     "output_type": "execute_result"
    }
   ],
   "source": [
    "df[['item', 'store', 'item_brand', 'item_name',\n",
    "       'item_price', 'weekday', 'month',\n",
    "       'sales_total']]"
   ]
  },
  {
   "cell_type": "code",
   "execution_count": 96,
   "id": "6e2087ab-dc93-4508-846e-28e0c24745b4",
   "metadata": {},
   "outputs": [],
   "source": [
    "basics = ['item', 'store', 'item_brand', 'item_name',\n",
    "       'item_price', 'weekday', 'month',\n",
    "       'sales_total']"
   ]
  },
  {
   "cell_type": "code",
   "execution_count": 97,
   "id": "82006602-8344-44f8-ac7e-31bc13964078",
   "metadata": {},
   "outputs": [],
   "source": [
    "df = df[basics]"
   ]
  },
  {
   "cell_type": "code",
   "execution_count": 98,
   "id": "c7c9077b-539d-4ae1-bacf-80fa2503d0a4",
   "metadata": {},
   "outputs": [],
   "source": [
    "train = df[:test_start_index] # everything up to (not including) test start index\n",
    "test = df[test_start_index:] # everything from test start index onward"
   ]
  },
  {
   "cell_type": "code",
   "execution_count": 99,
   "id": "e866b488-a01d-4406-9bd4-38166580465d",
   "metadata": {},
   "outputs": [
    {
     "data": {
      "text/plain": [
       "True"
      ]
     },
     "execution_count": 99,
     "metadata": {},
     "output_type": "execute_result"
    }
   ],
   "source": [
    "train.shape[0] + test.shape[0] == df.shape[0]"
   ]
  },
  {
   "cell_type": "code",
   "execution_count": 100,
   "id": "c81119fd-38ac-41a8-9eb6-37a7bc7076db",
   "metadata": {},
   "outputs": [
    {
     "data": {
      "text/html": [
       "<div>\n",
       "<style scoped>\n",
       "    .dataframe tbody tr th:only-of-type {\n",
       "        vertical-align: middle;\n",
       "    }\n",
       "\n",
       "    .dataframe tbody tr th {\n",
       "        vertical-align: top;\n",
       "    }\n",
       "\n",
       "    .dataframe thead th {\n",
       "        text-align: right;\n",
       "    }\n",
       "</style>\n",
       "<table border=\"1\" class=\"dataframe\">\n",
       "  <thead>\n",
       "    <tr style=\"text-align: right;\">\n",
       "      <th></th>\n",
       "      <th>item</th>\n",
       "      <th>store</th>\n",
       "      <th>item_brand</th>\n",
       "      <th>item_name</th>\n",
       "      <th>item_price</th>\n",
       "      <th>weekday</th>\n",
       "      <th>month</th>\n",
       "      <th>sales_total</th>\n",
       "    </tr>\n",
       "    <tr>\n",
       "      <th>sale_date</th>\n",
       "      <th></th>\n",
       "      <th></th>\n",
       "      <th></th>\n",
       "      <th></th>\n",
       "      <th></th>\n",
       "      <th></th>\n",
       "      <th></th>\n",
       "      <th></th>\n",
       "    </tr>\n",
       "  </thead>\n",
       "  <tbody>\n",
       "    <tr>\n",
       "      <th>2016-07-02</th>\n",
       "      <td>47</td>\n",
       "      <td>5</td>\n",
       "      <td>Bear Naked</td>\n",
       "      <td>Bear Naked Fit Almond Crisp 100 Percent Natura...</td>\n",
       "      <td>7.38</td>\n",
       "      <td>Sat</td>\n",
       "      <td>7</td>\n",
       "      <td>221.40</td>\n",
       "    </tr>\n",
       "    <tr>\n",
       "      <th>2016-07-02</th>\n",
       "      <td>3</td>\n",
       "      <td>3</td>\n",
       "      <td>Earths Best</td>\n",
       "      <td>Earths Best Organic Fruit Yogurt Smoothie Mixe...</td>\n",
       "      <td>2.43</td>\n",
       "      <td>Sat</td>\n",
       "      <td>7</td>\n",
       "      <td>162.81</td>\n",
       "    </tr>\n",
       "  </tbody>\n",
       "</table>\n",
       "</div>"
      ],
      "text/plain": [
       "            item  store   item_brand  ... weekday  month sales_total\n",
       "sale_date                             ...                           \n",
       "2016-07-02    47      5   Bear Naked  ...     Sat      7      221.40\n",
       "2016-07-02     3      3  Earths Best  ...     Sat      7      162.81\n",
       "\n",
       "[2 rows x 8 columns]"
      ]
     },
     "execution_count": 100,
     "metadata": {},
     "output_type": "execute_result"
    }
   ],
   "source": [
    "pd.concat([train.tail(1), test.head(1)])"
   ]
  },
  {
   "cell_type": "code",
   "execution_count": 101,
   "id": "a2d21d29-48b9-4d04-8bc3-fdc01ac26a4d",
   "metadata": {},
   "outputs": [
    {
     "name": "stdout",
     "output_type": "stream",
     "text": [
      "<class 'pandas.core.frame.DataFrame'>\n",
      "DatetimeIndex: 639100 entries, 2013-01-01 to 2016-07-02\n",
      "Data columns (total 8 columns):\n",
      " #   Column       Non-Null Count   Dtype  \n",
      "---  ------       --------------   -----  \n",
      " 0   item         639100 non-null  int64  \n",
      " 1   store        639100 non-null  int64  \n",
      " 2   item_brand   639100 non-null  object \n",
      " 3   item_name    639100 non-null  object \n",
      " 4   item_price   639100 non-null  float64\n",
      " 5   weekday      639100 non-null  object \n",
      " 6   month        639100 non-null  int64  \n",
      " 7   sales_total  639100 non-null  float64\n",
      "dtypes: float64(2), int64(3), object(3)\n",
      "memory usage: 43.9+ MB\n"
     ]
    }
   ],
   "source": [
    "train.info()"
   ]
  },
  {
   "cell_type": "code",
   "execution_count": 102,
   "id": "a4ae3f8d-2c5f-42aa-a4a2-159f1993b005",
   "metadata": {},
   "outputs": [
    {
     "data": {
      "image/png": "[encoded data removed]",
      "text/plain": [
       "<Figure size 792x360 with 1 Axes>"
      ]
     },
     "metadata": {},
     "output_type": "display_data"
    }
   ],
   "source": [
    "plt.plot(train.index, train.sales_total)\n",
    "plt.plot(test.index, test.sales_total)\n",
    "plt.show()"
   ]
  },
  {
   "cell_type": "markdown",
   "id": "a43b6ed8-7a40-46fc-ae73-a86b900c0fa9",
   "metadata": {},
   "source": [
    "#### Train-Test split"
   ]
  },
  {
   "cell_type": "code",
   "execution_count": 103,
   "id": "001ca267-2323-4263-b45d-4c48ee187635",
   "metadata": {},
   "outputs": [],
   "source": [
    "# Human-Based\n",
    "train = df.loc[:'2016']\n",
    "test = df.loc['2017']\n"
   ]
  },
  {
   "cell_type": "code",
   "execution_count": 104,
   "id": "889c4ca0-1375-4c13-a703-c68e00d4c799",
   "metadata": {},
   "outputs": [
    {
     "data": {
      "image/png": "[encoded data removed]",
      "text/plain": [
       "<Figure size 792x360 with 1 Axes>"
      ]
     },
     "metadata": {},
     "output_type": "display_data"
    }
   ],
   "source": [
    "plt.plot(train.index, train.sales_total)\n",
    "plt.plot(test.index, test.sales_total)\n",
    "plt.show()"
   ]
  },
  {
   "cell_type": "markdown",
   "id": "e6e6c0f6-9c3e-4397-bb7b-97980c21cad4",
   "metadata": {},
   "source": [
    "#### TimeSeriesSplit\n",
    "`sklearn.model_selection.TimeSeriesSplit`"
   ]
  },
  {
   "cell_type": "code",
   "execution_count": 52,
   "id": "d36438aa-3d21-4bb4-a915-044171f2c5d5",
   "metadata": {},
   "outputs": [],
   "source": [
    "from sklearn.model_selection import TimeSeriesSplit"
   ]
  },
  {
   "cell_type": "code",
   "execution_count": 60,
   "id": "b2737e33-63b0-4287-b246-71912df33204",
   "metadata": {},
   "outputs": [],
   "source": [
    "tss = TimeSeriesSplit(n_splits=5)"
   ]
  },
  {
   "cell_type": "code",
   "execution_count": 61,
   "id": "fa253679-443f-4a0b-ada5-1e62231319bc",
   "metadata": {},
   "outputs": [
    {
     "data": {
      "text/plain": [
       "<generator object TimeSeriesSplit.split at 0x2be1df4a0>"
      ]
     },
     "execution_count": 61,
     "metadata": {},
     "output_type": "execute_result"
    }
   ],
   "source": [
    "tss.split(df)"
   ]
  },
  {
   "cell_type": "code",
   "execution_count": 87,
   "id": "2382c353-dae5-4646-a81e-4bfdc6825b53",
   "metadata": {},
   "outputs": [],
   "source": [
    "# for train_index, test_index in tss.split(df):\n",
    "#     print('Train:', train_index, 'Test:', test_index)\n",
    "#     train, test = df[train_index], df[test_index]"
   ]
  },
  {
   "cell_type": "markdown",
   "id": "b15a3214-d2a3-4858-980e-7851b5cd5fe4",
   "metadata": {
    "tags": []
   },
   "source": [
    "TimeSeriesSplit(gap=0, max_train_size=None, n_splits=5, test_size=None)\n",
    ">>> for train_index, test_index in tscv.split(X):\n",
    "...     print(\"TRAIN:\", train_index, \"TEST:\", test_index)\n",
    "...     X_train, X_test = X[train_index], X[test_index]\n",
    "...     y_train, y_test = y[train_index], y[test_index]\n",
    "TRAIN: [0] TEST: [1]\n",
    "TRAIN: [0 1] TEST: [2]\n",
    "TRAIN: [0 1 2] TEST: [3]\n",
    "TRAIN: [0 1 2 3] TEST: [4]\n",
    "TRAIN: [0 1 2 3 4] TEST: [5]\n",
    ">>> # Fix test_size to 2 with 12 samples\n",
    ">>> X = np.random.randn(12, 2)\n",
    ">>> y = np.random.randint(0, 2, 12)\n",
    ">>> tscv = TimeSeriesSplit(n_splits=3, test_size=2)\n",
    ">>> for train_index, test_index in tscv.split(X):\n",
    "...    print(\"TRAIN:\", train_index, \"TEST:\", test_index)\n",
    "...    X_train, X_test = X[train_index], X[test_index]\n",
    "...    y_train, y_test = y[train_index], y[test_index]\n",
    "TRAIN: [0 1 2 3 4 5] TEST: [6 7]\n",
    "TRAIN: [0 1 2 3 4 5 6 7] TEST: [8 9]\n",
    "TRAIN: [0 1 2 3 4 5 6 7 8 9] TEST: [10 11]\n",
    ">>> # Add in a 2 period gap\n",
    ">>> tscv = TimeSeriesSplit(n_splits=3, test_size=2, gap=2)\n",
    ">>> for train_index, test_index in tscv.split(X):\n",
    "...    print(\"TRAIN:\", train_index, \"TEST:\", test_index)\n",
    "...    X_train, X_test = X[train_index], X[test_index]\n",
    "...    y_train, y_test = y[train_index], y[test_index]\n",
    "TRAIN: [0 1 2 3] TEST: [6 7]\n",
    "TRAIN: [0 1 2 3 4 5] TEST: [8 9]\n",
    "TRAIN: [0 1 2 3 4 5 6 7] TEST: [10 11]\n",
    "\n",
    "Notes\n",
    "-----\n",
    "The training set has size ``i * n_samples // (n_splits + 1)\n",
    "+ n_samples % (n_splits + 1)`` in the ``i`` th split,\n",
    "with a test set of size ``n_samples//(n_splits + 1)`` by default,\n",
    "where ``n_samples`` is the number of samples."
   ]
  },
  {
   "cell_type": "code",
   "execution_count": 105,
   "id": "5a6330ec-4135-4309-8422-4b61c9ba04fa",
   "metadata": {
    "tags": []
   },
   "outputs": [
    {
     "data": {
      "text/html": [
       "<div>\n",
       "<style scoped>\n",
       "    .dataframe tbody tr th:only-of-type {\n",
       "        vertical-align: middle;\n",
       "    }\n",
       "\n",
       "    .dataframe tbody tr th {\n",
       "        vertical-align: top;\n",
       "    }\n",
       "\n",
       "    .dataframe thead th {\n",
       "        text-align: right;\n",
       "    }\n",
       "</style>\n",
       "<table border=\"1\" class=\"dataframe\">\n",
       "  <thead>\n",
       "    <tr style=\"text-align: right;\">\n",
       "      <th></th>\n",
       "      <th>item</th>\n",
       "      <th>store</th>\n",
       "      <th>item_brand</th>\n",
       "      <th>item_name</th>\n",
       "      <th>item_price</th>\n",
       "      <th>weekday</th>\n",
       "      <th>month</th>\n",
       "      <th>sales_total</th>\n",
       "    </tr>\n",
       "    <tr>\n",
       "      <th>sale_date</th>\n",
       "      <th></th>\n",
       "      <th></th>\n",
       "      <th></th>\n",
       "      <th></th>\n",
       "      <th></th>\n",
       "      <th></th>\n",
       "      <th></th>\n",
       "      <th></th>\n",
       "    </tr>\n",
       "  </thead>\n",
       "  <tbody>\n",
       "    <tr>\n",
       "      <th>2013-01-01</th>\n",
       "      <td>1</td>\n",
       "      <td>1</td>\n",
       "      <td>Riceland</td>\n",
       "      <td>Riceland American Jazmine Rice</td>\n",
       "      <td>0.84</td>\n",
       "      <td>Tue</td>\n",
       "      <td>1</td>\n",
       "      <td>10.92</td>\n",
       "    </tr>\n",
       "    <tr>\n",
       "      <th>2013-01-01</th>\n",
       "      <td>12</td>\n",
       "      <td>7</td>\n",
       "      <td>Mueller</td>\n",
       "      <td>Mueller Sport Care Basic Support Level Medium ...</td>\n",
       "      <td>8.40</td>\n",
       "      <td>Tue</td>\n",
       "      <td>1</td>\n",
       "      <td>218.40</td>\n",
       "    </tr>\n",
       "    <tr>\n",
       "      <th>2013-01-01</th>\n",
       "      <td>46</td>\n",
       "      <td>7</td>\n",
       "      <td>Mama Marys</td>\n",
       "      <td>Pizza Sauce</td>\n",
       "      <td>4.65</td>\n",
       "      <td>Tue</td>\n",
       "      <td>1</td>\n",
       "      <td>125.55</td>\n",
       "    </tr>\n",
       "    <tr>\n",
       "      <th>2013-01-01</th>\n",
       "      <td>12</td>\n",
       "      <td>8</td>\n",
       "      <td>Mueller</td>\n",
       "      <td>Mueller Sport Care Basic Support Level Medium ...</td>\n",
       "      <td>8.40</td>\n",
       "      <td>Tue</td>\n",
       "      <td>1</td>\n",
       "      <td>453.60</td>\n",
       "    </tr>\n",
       "    <tr>\n",
       "      <th>2013-01-01</th>\n",
       "      <td>12</td>\n",
       "      <td>9</td>\n",
       "      <td>Mueller</td>\n",
       "      <td>Mueller Sport Care Basic Support Level Medium ...</td>\n",
       "      <td>8.40</td>\n",
       "      <td>Tue</td>\n",
       "      <td>1</td>\n",
       "      <td>294.00</td>\n",
       "    </tr>\n",
       "    <tr>\n",
       "      <th>...</th>\n",
       "      <td>...</td>\n",
       "      <td>...</td>\n",
       "      <td>...</td>\n",
       "      <td>...</td>\n",
       "      <td>...</td>\n",
       "      <td>...</td>\n",
       "      <td>...</td>\n",
       "      <td>...</td>\n",
       "    </tr>\n",
       "    <tr>\n",
       "      <th>2016-12-31</th>\n",
       "      <td>18</td>\n",
       "      <td>6</td>\n",
       "      <td>Scotch</td>\n",
       "      <td>Scotch Removable Clear Mounting Squares - 35 Ct</td>\n",
       "      <td>4.39</td>\n",
       "      <td>Sat</td>\n",
       "      <td>12</td>\n",
       "      <td>263.40</td>\n",
       "    </tr>\n",
       "    <tr>\n",
       "      <th>2016-12-31</th>\n",
       "      <td>42</td>\n",
       "      <td>1</td>\n",
       "      <td>Moms Best Naturals</td>\n",
       "      <td>Moms Best Naturals Cereal Toasted Cinnamon Squ...</td>\n",
       "      <td>2.97</td>\n",
       "      <td>Sat</td>\n",
       "      <td>12</td>\n",
       "      <td>92.07</td>\n",
       "    </tr>\n",
       "    <tr>\n",
       "      <th>2016-12-31</th>\n",
       "      <td>6</td>\n",
       "      <td>4</td>\n",
       "      <td>Sally Hansen</td>\n",
       "      <td>Sally Hansen Nail Color Magnetic 903 Silver El...</td>\n",
       "      <td>6.93</td>\n",
       "      <td>Sat</td>\n",
       "      <td>12</td>\n",
       "      <td>284.13</td>\n",
       "    </tr>\n",
       "    <tr>\n",
       "      <th>2016-12-31</th>\n",
       "      <td>4</td>\n",
       "      <td>9</td>\n",
       "      <td>Boars Head</td>\n",
       "      <td>Boars Head Sliced White American Cheese - 120 Ct</td>\n",
       "      <td>3.14</td>\n",
       "      <td>Sat</td>\n",
       "      <td>12</td>\n",
       "      <td>53.38</td>\n",
       "    </tr>\n",
       "    <tr>\n",
       "      <th>2016-12-31</th>\n",
       "      <td>33</td>\n",
       "      <td>3</td>\n",
       "      <td>The First Years</td>\n",
       "      <td>Tomy The First Years Gumdrop Orthodontic Pacif...</td>\n",
       "      <td>6.52</td>\n",
       "      <td>Sat</td>\n",
       "      <td>12</td>\n",
       "      <td>482.48</td>\n",
       "    </tr>\n",
       "  </tbody>\n",
       "</table>\n",
       "<p>730500 rows × 8 columns</p>\n",
       "</div>"
      ],
      "text/plain": [
       "            item  store          item_brand  ... weekday  month sales_total\n",
       "sale_date                                    ...                           \n",
       "2013-01-01     1      1            Riceland  ...     Tue      1       10.92\n",
       "2013-01-01    12      7             Mueller  ...     Tue      1      218.40\n",
       "2013-01-01    46      7          Mama Marys  ...     Tue      1      125.55\n",
       "2013-01-01    12      8             Mueller  ...     Tue      1      453.60\n",
       "2013-01-01    12      9             Mueller  ...     Tue      1      294.00\n",
       "...          ...    ...                 ...  ...     ...    ...         ...\n",
       "2016-12-31    18      6              Scotch  ...     Sat     12      263.40\n",
       "2016-12-31    42      1  Moms Best Naturals  ...     Sat     12       92.07\n",
       "2016-12-31     6      4        Sally Hansen  ...     Sat     12      284.13\n",
       "2016-12-31     4      9          Boars Head  ...     Sat     12       53.38\n",
       "2016-12-31    33      3     The First Years  ...     Sat     12      482.48\n",
       "\n",
       "[730500 rows x 8 columns]"
      ]
     },
     "execution_count": 105,
     "metadata": {},
     "output_type": "execute_result"
    }
   ],
   "source": [
    "train"
   ]
  },
  {
   "cell_type": "code",
   "execution_count": 106,
   "id": "fbc4c795-e974-4e85-8471-c521fc10218a",
   "metadata": {},
   "outputs": [
    {
     "data": {
      "text/plain": [
       "1     14610\n",
       "33    14610\n",
       "39    14610\n",
       "31    14610\n",
       "32    14610\n",
       "28    14610\n",
       "40    14610\n",
       "29    14610\n",
       "35    14610\n",
       "38    14610\n",
       "37    14610\n",
       "36    14610\n",
       "34    14610\n",
       "12    14610\n",
       "43    14610\n",
       "21    14610\n",
       "22    14610\n",
       "42    14610\n",
       "23    14610\n",
       "20    14610\n",
       "26    14610\n",
       "41    14610\n",
       "27    14610\n",
       "25    14610\n",
       "30    14610\n",
       "6     14610\n",
       "7     14610\n",
       "9     14610\n",
       "46    14610\n",
       "13    14610\n",
       "14    14610\n",
       "45    14610\n",
       "10    14610\n",
       "47    14610\n",
       "11    14610\n",
       "44    14610\n",
       "17    14610\n",
       "18    14610\n",
       "19    14610\n",
       "16    14610\n",
       "15    14610\n",
       "3     14610\n",
       "50    14610\n",
       "49    14610\n",
       "4     14610\n",
       "5     14610\n",
       "2     14610\n",
       "8     14610\n",
       "48    14610\n",
       "24    14610\n",
       "Name: item, dtype: int64"
      ]
     },
     "execution_count": 106,
     "metadata": {},
     "output_type": "execute_result"
    }
   ],
   "source": [
    "train.item.value_counts()"
   ]
  },
  {
   "cell_type": "code",
   "execution_count": 107,
   "id": "70973945-7e06-4bc3-93de-41f8fa81a6a0",
   "metadata": {},
   "outputs": [
    {
     "data": {
      "text/html": [
       "<div>\n",
       "<style scoped>\n",
       "    .dataframe tbody tr th:only-of-type {\n",
       "        vertical-align: middle;\n",
       "    }\n",
       "\n",
       "    .dataframe tbody tr th {\n",
       "        vertical-align: top;\n",
       "    }\n",
       "\n",
       "    .dataframe thead th {\n",
       "        text-align: right;\n",
       "    }\n",
       "</style>\n",
       "<table border=\"1\" class=\"dataframe\">\n",
       "  <thead>\n",
       "    <tr style=\"text-align: right;\">\n",
       "      <th></th>\n",
       "      <th>item</th>\n",
       "      <th>store</th>\n",
       "      <th>item_brand</th>\n",
       "      <th>item_name</th>\n",
       "      <th>item_price</th>\n",
       "      <th>weekday</th>\n",
       "      <th>month</th>\n",
       "      <th>sales_total</th>\n",
       "    </tr>\n",
       "    <tr>\n",
       "      <th>sale_date</th>\n",
       "      <th></th>\n",
       "      <th></th>\n",
       "      <th></th>\n",
       "      <th></th>\n",
       "      <th></th>\n",
       "      <th></th>\n",
       "      <th></th>\n",
       "      <th></th>\n",
       "    </tr>\n",
       "  </thead>\n",
       "  <tbody>\n",
       "    <tr>\n",
       "      <th>2013-01-01</th>\n",
       "      <td>1</td>\n",
       "      <td>1</td>\n",
       "      <td>Riceland</td>\n",
       "      <td>Riceland American Jazmine Rice</td>\n",
       "      <td>0.84</td>\n",
       "      <td>Tue</td>\n",
       "      <td>1</td>\n",
       "      <td>10.92</td>\n",
       "    </tr>\n",
       "    <tr>\n",
       "      <th>2013-01-01</th>\n",
       "      <td>1</td>\n",
       "      <td>4</td>\n",
       "      <td>Riceland</td>\n",
       "      <td>Riceland American Jazmine Rice</td>\n",
       "      <td>0.84</td>\n",
       "      <td>Tue</td>\n",
       "      <td>1</td>\n",
       "      <td>8.40</td>\n",
       "    </tr>\n",
       "    <tr>\n",
       "      <th>2013-01-01</th>\n",
       "      <td>1</td>\n",
       "      <td>5</td>\n",
       "      <td>Riceland</td>\n",
       "      <td>Riceland American Jazmine Rice</td>\n",
       "      <td>0.84</td>\n",
       "      <td>Tue</td>\n",
       "      <td>1</td>\n",
       "      <td>9.24</td>\n",
       "    </tr>\n",
       "    <tr>\n",
       "      <th>2013-01-01</th>\n",
       "      <td>1</td>\n",
       "      <td>6</td>\n",
       "      <td>Riceland</td>\n",
       "      <td>Riceland American Jazmine Rice</td>\n",
       "      <td>0.84</td>\n",
       "      <td>Tue</td>\n",
       "      <td>1</td>\n",
       "      <td>16.80</td>\n",
       "    </tr>\n",
       "    <tr>\n",
       "      <th>2013-01-01</th>\n",
       "      <td>1</td>\n",
       "      <td>7</td>\n",
       "      <td>Riceland</td>\n",
       "      <td>Riceland American Jazmine Rice</td>\n",
       "      <td>0.84</td>\n",
       "      <td>Tue</td>\n",
       "      <td>1</td>\n",
       "      <td>5.88</td>\n",
       "    </tr>\n",
       "    <tr>\n",
       "      <th>...</th>\n",
       "      <td>...</td>\n",
       "      <td>...</td>\n",
       "      <td>...</td>\n",
       "      <td>...</td>\n",
       "      <td>...</td>\n",
       "      <td>...</td>\n",
       "      <td>...</td>\n",
       "      <td>...</td>\n",
       "    </tr>\n",
       "    <tr>\n",
       "      <th>2016-12-31</th>\n",
       "      <td>1</td>\n",
       "      <td>10</td>\n",
       "      <td>Riceland</td>\n",
       "      <td>Riceland American Jazmine Rice</td>\n",
       "      <td>0.84</td>\n",
       "      <td>Sat</td>\n",
       "      <td>12</td>\n",
       "      <td>23.52</td>\n",
       "    </tr>\n",
       "    <tr>\n",
       "      <th>2016-12-31</th>\n",
       "      <td>1</td>\n",
       "      <td>4</td>\n",
       "      <td>Riceland</td>\n",
       "      <td>Riceland American Jazmine Rice</td>\n",
       "      <td>0.84</td>\n",
       "      <td>Sat</td>\n",
       "      <td>12</td>\n",
       "      <td>12.60</td>\n",
       "    </tr>\n",
       "    <tr>\n",
       "      <th>2016-12-31</th>\n",
       "      <td>1</td>\n",
       "      <td>8</td>\n",
       "      <td>Riceland</td>\n",
       "      <td>Riceland American Jazmine Rice</td>\n",
       "      <td>0.84</td>\n",
       "      <td>Sat</td>\n",
       "      <td>12</td>\n",
       "      <td>18.48</td>\n",
       "    </tr>\n",
       "    <tr>\n",
       "      <th>2016-12-31</th>\n",
       "      <td>1</td>\n",
       "      <td>6</td>\n",
       "      <td>Riceland</td>\n",
       "      <td>Riceland American Jazmine Rice</td>\n",
       "      <td>0.84</td>\n",
       "      <td>Sat</td>\n",
       "      <td>12</td>\n",
       "      <td>12.60</td>\n",
       "    </tr>\n",
       "    <tr>\n",
       "      <th>2016-12-31</th>\n",
       "      <td>1</td>\n",
       "      <td>3</td>\n",
       "      <td>Riceland</td>\n",
       "      <td>Riceland American Jazmine Rice</td>\n",
       "      <td>0.84</td>\n",
       "      <td>Sat</td>\n",
       "      <td>12</td>\n",
       "      <td>21.84</td>\n",
       "    </tr>\n",
       "  </tbody>\n",
       "</table>\n",
       "<p>14610 rows × 8 columns</p>\n",
       "</div>"
      ],
      "text/plain": [
       "            item  store item_brand  ... weekday  month sales_total\n",
       "sale_date                           ...                           \n",
       "2013-01-01     1      1   Riceland  ...     Tue      1       10.92\n",
       "2013-01-01     1      4   Riceland  ...     Tue      1        8.40\n",
       "2013-01-01     1      5   Riceland  ...     Tue      1        9.24\n",
       "2013-01-01     1      6   Riceland  ...     Tue      1       16.80\n",
       "2013-01-01     1      7   Riceland  ...     Tue      1        5.88\n",
       "...          ...    ...        ...  ...     ...    ...         ...\n",
       "2016-12-31     1     10   Riceland  ...     Sat     12       23.52\n",
       "2016-12-31     1      4   Riceland  ...     Sat     12       12.60\n",
       "2016-12-31     1      8   Riceland  ...     Sat     12       18.48\n",
       "2016-12-31     1      6   Riceland  ...     Sat     12       12.60\n",
       "2016-12-31     1      3   Riceland  ...     Sat     12       21.84\n",
       "\n",
       "[14610 rows x 8 columns]"
      ]
     },
     "execution_count": 107,
     "metadata": {},
     "output_type": "execute_result"
    }
   ],
   "source": [
    "train[train.item == 1]"
   ]
  },
  {
   "cell_type": "code",
   "execution_count": 113,
   "id": "df3a211a-45db-410e-91bb-e619e22034e6",
   "metadata": {},
   "outputs": [
    {
     "data": {
      "text/plain": [
       "<AxesSubplot:ylabel='Frequency'>"
      ]
     },
     "execution_count": 113,
     "metadata": {},
     "output_type": "execute_result"
    },
    {
     "data": {
      "image/png": "[encoded data removed]",
      "text/plain": [
       "<Figure size 792x360 with 1 Axes>"
      ]
     },
     "metadata": {},
     "output_type": "display_data"
    }
   ],
   "source": [
    "train.groupby(['store', 'month', 'item']).agg('mean').plot.hist()"
   ]
  },
  {
   "cell_type": "code",
   "execution_count": 113,
   "id": "565ea234-84ae-4d2e-8adf-a7e731db2dd6",
   "metadata": {},
   "outputs": [
    {
     "data": {
      "text/plain": [
       "<AxesSubplot:ylabel='Frequency'>"
      ]
     },
     "execution_count": 113,
     "metadata": {},
     "output_type": "execute_result"
    },
    {
     "data": {
      "image/png": "[encoded data removed]",
      "text/plain": [
       "<Figure size 792x360 with 1 Axes>"
      ]
     },
     "metadata": {},
     "output_type": "display_data"
    }
   ],
   "source": [
    "train.groupby(['store', 'month', 'item']).agg('mean').plot.hist()"
   ]
  },
  {
   "cell_type": "code",
   "execution_count": 115,
   "id": "4c7d0d85-6758-49a7-bdb0-b3e705941c58",
   "metadata": {},
   "outputs": [
    {
     "data": {
      "text/plain": [
       "<AxesSubplot:xlabel='store,month,item'>"
      ]
     },
     "execution_count": 115,
     "metadata": {},
     "output_type": "execute_result"
    },
    {
     "data": {
      "image/png": "[encoded data removed]",
      "text/plain": [
       "<Figure size 792x360 with 1 Axes>"
      ]
     },
     "metadata": {},
     "output_type": "display_data"
    }
   ],
   "source": [
    "train.groupby(['store', 'month', 'item']).agg('mean').plot()"
   ]
  },
  {
   "cell_type": "code",
   "execution_count": 116,
   "id": "c43c1035-4816-49f5-81c6-b0a726c0a1c2",
   "metadata": {},
   "outputs": [
    {
     "data": {
      "text/plain": [
       "<AxesSubplot:xlabel='store,weekday,item'>"
      ]
     },
     "execution_count": 116,
     "metadata": {},
     "output_type": "execute_result"
    },
    {
     "data": {
      "image/png": "[encoded data removed]",
      "text/plain": [
       "<Figure size 792x360 with 1 Axes>"
      ]
     },
     "metadata": {},
     "output_type": "display_data"
    }
   ],
   "source": [
    "train.groupby(['store', 'weekday', 'item']).agg('mean').plot()"
   ]
  },
  {
   "cell_type": "code",
   "execution_count": null,
   "id": "1faa0365-ceaa-4d72-940e-d4bb9eab841b",
   "metadata": {},
   "outputs": [],
   "source": []
  }
 ],
 "metadata": {
  "kernelspec": {
   "display_name": "Python 3 (ipykernel)",
   "language": "python",
   "name": "python3"
  },
  "language_info": {
   "codemirror_mode": {
    "name": "ipython",
    "version": 3
   },
   "file_extension": ".py",
   "mimetype": "text/x-python",
   "name": "python",
   "nbconvert_exporter": "python",
   "pygments_lexer": "ipython3",
   "version": "3.9.12"
  }
 },
 "nbformat": 4,
 "nbformat_minor": 5
}
