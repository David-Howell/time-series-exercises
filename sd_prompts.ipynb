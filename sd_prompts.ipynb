{
 "cells": [
  {
   "cell_type": "markdown",
   "id": "713ba92e-072e-47fb-9c8f-88132e47bb38",
   "metadata": {},
   "source": [
    "# Prompts for Stable Diffusion"
   ]
  },
  {
   "cell_type": "code",
   "execution_count": 3,
   "id": "8e660af9-f44f-4050-8879-20a0c6989abf",
   "metadata": {},
   "outputs": [],
   "source": [
    "import numpy as np\n",
    "import pandas as pd\n",
    "import os"
   ]
  },
  {
   "cell_type": "code",
   "execution_count": null,
   "id": "87d12016-9991-49b0-9f3b-df430ca700ec",
   "metadata": {},
   "outputs": [],
   "source": []
  },
  {
   "cell_type": "code",
   "execution_count": 4,
   "id": "70c88049-dfa3-49b6-82e2-da3ba9496d7c",
   "metadata": {},
   "outputs": [],
   "source": [
    "# prompts = {}\n",
    "filename = 'stable_diffusion_prompts'"
   ]
  },
  {
   "cell_type": "code",
   "execution_count": 5,
   "id": "f206725f-98b9-4e49-816b-2193b2d22287",
   "metadata": {},
   "outputs": [],
   "source": [
    "# pd.to_pickle(prompts, filename)"
   ]
  },
  {
   "cell_type": "code",
   "execution_count": 6,
   "id": "7cf1a849-f288-4635-a836-b026170a58bd",
   "metadata": {},
   "outputs": [],
   "source": [
    "def add_prompt():\n",
    "    pd.read_pickle(filename)\n",
    "    name = input('What\\'s the name for the Prompt? : ')\n",
    "    prompt = input('Enter the Prompt string: ')\n",
    "    prompts.update({name:prompt})\n",
    "    pd.to_pickle(prompts, filename)\n",
    "    return prompts"
   ]
  },
  {
   "cell_type": "code",
   "execution_count": 7,
   "id": "0e0320a3-610e-4239-afaa-10add924da4f",
   "metadata": {},
   "outputs": [
    {
     "name": "stdin",
     "output_type": "stream",
     "text": [
      "What's the name for the Prompt? :  dragon_001\n",
      "Enter the Prompt string:  Photo of a xenomorph Drogon in Game of thrones hybrid. High detail, photrorealistic, trending on artstation, raytraced\n"
     ]
    },
    {
     "data": {
      "text/plain": [
       "{'dragon_001': 'Photo of a xenomorph Drogon in Game of thrones hybrid. High detail, photrorealistic, trending on artstation, raytraced'}"
      ]
     },
     "execution_count": 7,
     "metadata": {},
     "output_type": "execute_result"
    }
   ],
   "source": [
    "add_prompt()"
   ]
  },
  {
   "cell_type": "code",
   "execution_count": null,
   "id": "0790bf97-81dd-4f22-bbc3-b17aad3624b6",
   "metadata": {},
   "outputs": [],
   "source": []
  }
 ],
 "metadata": {
  "kernelspec": {
   "display_name": "Python 3 (ipykernel)",
   "language": "python",
   "name": "python3"
  },
  "language_info": {
   "codemirror_mode": {
    "name": "ipython",
    "version": 3
   },
   "file_extension": ".py",
   "mimetype": "text/x-python",
   "name": "python",
   "nbconvert_exporter": "python",
   "pygments_lexer": "ipython3",
   "version": "3.9.12"
  }
 },
 "nbformat": 4,
 "nbformat_minor": 5
}
